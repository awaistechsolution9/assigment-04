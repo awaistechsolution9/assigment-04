{
  "nbformat": 4,
  "nbformat_minor": 0,
  "metadata": {
    "colab": {
      "provenance": [],
      "authorship_tag": "ABX9TyOtYGTxDrAu1cQbq36hCZlX",
      "include_colab_link": true
    },
    "kernelspec": {
      "name": "python3",
      "display_name": "Python 3"
    },
    "language_info": {
      "name": "python"
    }
  },
  "cells": [
    {
      "cell_type": "markdown",
      "metadata": {
        "id": "view-in-github",
        "colab_type": "text"
      },
      "source": [
        "<a href=\"https://colab.research.google.com/github/awaistechsolution9/assigment-04/blob/main/04_random_numbers.ipynb\" target=\"_parent\"><img src=\"https://colab.research.google.com/assets/colab-badge.svg\" alt=\"Open In Colab\"/></a>"
      ]
    },
    {
      "cell_type": "code",
      "execution_count": 7,
      "metadata": {
        "colab": {
          "base_uri": "https://localhost:8080/"
        },
        "id": "8Y_F9L65ReDL",
        "outputId": "bbf433a7-d154-4fa5-c108-081fb5b1dd74"
      },
      "outputs": [
        {
          "output_type": "stream",
          "name": "stdout",
          "text": [
            " 10 Random Numbers between 1 and 100:\n",
            "88,23,99,23,75,27,61,84,76,76\n"
          ]
        }
      ],
      "source": [
        "# random_numbers genarator\n",
        "import random\n",
        "\n",
        "random_number = [random.randint(1,100) for _ in range (10)]\n",
        "\n",
        "print(\" 10 Random Numbers between 1 and 100:\")\n",
        "print(\",\" .join(map(str, random_number)))"
      ]
    },
    {
      "cell_type": "markdown",
      "source": [],
      "metadata": {
        "id": "oJ8WMi6udrBm"
      }
    }
  ]
}