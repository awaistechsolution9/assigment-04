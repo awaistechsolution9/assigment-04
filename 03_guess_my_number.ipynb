{
  "nbformat": 4,
  "nbformat_minor": 0,
  "metadata": {
    "colab": {
      "provenance": [],
      "authorship_tag": "ABX9TyOS5KXch6uGncgPsTb6zqxj",
      "include_colab_link": true
    },
    "kernelspec": {
      "name": "python3",
      "display_name": "Python 3"
    },
    "language_info": {
      "name": "python"
    }
  },
  "cells": [
    {
      "cell_type": "markdown",
      "metadata": {
        "id": "view-in-github",
        "colab_type": "text"
      },
      "source": [
        "<a href=\"https://colab.research.google.com/github/awaistechsolution9/assigment-04/blob/main/03_guess_my_number.ipynb\" target=\"_parent\"><img src=\"https://colab.research.google.com/assets/colab-badge.svg\" alt=\"Open In Colab\"/></a>"
      ]
    },
    {
      "cell_type": "code",
      "execution_count": null,
      "metadata": {
        "colab": {
          "base_uri": "https://localhost:8080/"
        },
        "id": "LIkVOc0-j6k-",
        "outputId": "d65185b6-0d28-4146-f8ab-a3f47d1e3939"
      },
      "outputs": [
        {
          "output_type": "stream",
          "name": "stdout",
          "text": [
            "Guess my number game\n",
            "I am thinking the number between 0 to 99...\n",
            "Enter a Guess:4\n",
            "Your Number is too High\n",
            "Enter a Guess:7\n",
            "Your Number is too High\n",
            "Enter a Guess:5\n",
            "Your Number is too High\n",
            "Enter a Guess:4\n",
            "Your Number is too High\n",
            "Enter a Guess:1\n",
            "Your Number is too High\n",
            "Enter a Guess:2\n",
            "Your Number is too High\n",
            "Enter a Guess:2\n",
            "Your Number is too High\n",
            "Enter a Guess:\n",
            "Please enter a valid number!\n",
            "Enter a Guess:2\n",
            "Your Number is too High\n",
            "Enter a Guess:\n",
            "Please enter a valid number!\n",
            "Enter a Guess:\n",
            "Please enter a valid number!\n",
            "Enter a Guess:2\n",
            "Your Number is too High\n",
            "Enter a Guess:\n",
            "Please enter a valid number!\n",
            "Enter a Guess:1\n",
            "Your Number is too High\n"
          ]
        }
      ],
      "source": [
        "import random\n",
        "\n",
        "def guess_number():\n",
        "  number = random.randint(0,99)\n",
        "  print(\"Guess my number game\")\n",
        "  print(\"I am thinking the number between 0 to 99...\")\n",
        "\n",
        "  while True:\n",
        "    try:\n",
        "      guess = int(input(\"Enter a Guess:\"))\n",
        "      if number < guess:\n",
        "        print(\"Your Number is to low\")\n",
        "      elif number > guess :\n",
        "        print(\"Your Number is too High\")\n",
        "      else:\n",
        "        print(f\"Congrats! the number was {number}\")\n",
        "        break\n",
        "    except ValueError:\n",
        "      print(\"Please enter a valid number!\")\n",
        "guess_number()22222"
      ]
    },
    {
      "cell_type": "code",
      "source": [],
      "metadata": {
        "id": "ZvAo_OYHnMFO"
      },
      "execution_count": null,
      "outputs": []
    },
    {
      "cell_type": "code",
      "source": [],
      "metadata": {
        "id": "3FCB9p-BlXCW"
      },
      "execution_count": null,
      "outputs": []
    }
  ]
}