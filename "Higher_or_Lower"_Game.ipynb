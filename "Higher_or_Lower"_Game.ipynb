{
  "nbformat": 4,
  "nbformat_minor": 0,
  "metadata": {
    "colab": {
      "provenance": [],
      "authorship_tag": "ABX9TyM1unRalpvbMfWd9MS/yhAJ",
      "include_colab_link": true
    },
    "kernelspec": {
      "name": "python3",
      "display_name": "Python 3"
    },
    "language_info": {
      "name": "python"
    }
  },
  "cells": [
    {
      "cell_type": "markdown",
      "metadata": {
        "id": "view-in-github",
        "colab_type": "text"
      },
      "source": [
        "<a href=\"https://colab.research.google.com/github/awaistechsolution9/assigment-04/blob/main/%22Higher_or_Lower%22_Game.ipynb\" target=\"_parent\"><img src=\"https://colab.research.google.com/assets/colab-badge.svg\" alt=\"Open In Colab\"/></a>"
      ]
    },
    {
      "cell_type": "code",
      "execution_count": 2,
      "metadata": {
        "colab": {
          "base_uri": "https://localhost:8080/"
        },
        "id": "Qs-C4zpje4Q7",
        "outputId": "715d2167-e719-4a57-8423-abf695caa356"
      },
      "outputs": [
        {
          "output_type": "stream",
          "name": "stdout",
          "text": [
            "🎮 Welcome to the Higher or Lower Game!\n",
            "\n",
            "🔁 Round 1\n",
            "Your number is: 22\n",
            "Do you think your number is Higher or Lower than the computer's? (h/l): h\n",
            "Computer's number was: 96\n",
            "❌ Wrong guess. No point this round.\n",
            "\n",
            "🔁 Round 2\n",
            "Your number is: 28\n",
            "Do you think your number is Higher or Lower than the computer's? (h/l): h\n",
            "Computer's number was: 64\n",
            "❌ Wrong guess. No point this round.\n",
            "\n",
            "🔁 Round 3\n",
            "Your number is: 27\n",
            "Do you think your number is Higher or Lower than the computer's? (h/l): h\n",
            "Computer's number was: 23\n",
            "✅ Correct guess! You get a point.\n",
            "\n",
            "🔁 Round 4\n",
            "Your number is: 31\n",
            "Do you think your number is Higher or Lower than the computer's? (h/l): h\n",
            "Computer's number was: 88\n",
            "❌ Wrong guess. No point this round.\n",
            "\n",
            "🔁 Round 5\n",
            "Your number is: 38\n",
            "Do you think your number is Higher or Lower than the computer's? (h/l): l\n",
            "Computer's number was: 49\n",
            "✅ Correct guess! You get a point.\n",
            "\n",
            "🏁 Game Over!\n",
            "Your final score is: 2 out of 5\n"
          ]
        }
      ],
      "source": [
        "import random\n",
        "\n",
        "print(\" Welcome to the Higher or Lower Game!\")\n",
        "rounds = 5\n",
        "score = 0\n",
        "\n",
        "for round_num in range(1, rounds + 1):\n",
        "    user_number = random.randint(1, 100)\n",
        "    computer_number = random.randint(1, 100)\n",
        "\n",
        "    print(f\"\\n Round {round_num}\")\n",
        "    print(f\"Your number is: {user_number}\")\n",
        "    guess = input(\"Do you think your number is Higher or Lower than the computer's? (h/l): \").lower()\n",
        "\n",
        "    if guess not in ['h', 'l']:\n",
        "        print(\"Invalid input! Please enter 'h' for Higher or 'l' for Lower.\")\n",
        "        continue\n",
        "\n",
        "\n",
        "\n",
        "    print(f\"Computer's number was: {computer_number}\")\n",
        "\n",
        "    if (guess == 'h' and user_number > computer_number) or (guess == 'l' and user_number < computer_number):\n",
        "        print(\" Correct guess! You get a point.\")\n",
        "        score += 1\n",
        "    else:\n",
        "        print(\"Wrong guess. No point this round.\")\n",
        "\n",
        "print(\"\\n Game Over!\")\n",
        "print(f\"Your final score is: {score} out of {rounds}\")"
      ]
    }
  ]
}