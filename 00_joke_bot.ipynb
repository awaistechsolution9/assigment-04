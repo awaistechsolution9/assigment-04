{
  "nbformat": 4,
  "nbformat_minor": 0,
  "metadata": {
    "colab": {
      "provenance": [],
      "authorship_tag": "ABX9TyNqfK1rw4ogAcZVbVCnYqkL",
      "include_colab_link": true
    },
    "kernelspec": {
      "name": "python3",
      "display_name": "Python 3"
    },
    "language_info": {
      "name": "python"
    }
  },
  "cells": [
    {
      "cell_type": "markdown",
      "metadata": {
        "id": "view-in-github",
        "colab_type": "text"
      },
      "source": [
        "<a href=\"https://colab.research.google.com/github/awaistechsolution9/assigment-04/blob/main/00_joke_bot.ipynb\" target=\"_parent\"><img src=\"https://colab.research.google.com/assets/colab-badge.svg\" alt=\"Open In Colab\"/></a>"
      ]
    },
    {
      "cell_type": "code",
      "execution_count": null,
      "metadata": {
        "id": "YyyZQyBdMLLZ"
      },
      "outputs": [],
      "source": [
        "PROMPT = \"\\n🤖 JokeBot: What would you like to hear today? Type 'Joke' to get a laugh! 😄\\n> \"\n",
        "JOKE = (\"\\n😂 Here's a classic for you!\\n\"\n",
        "        \"Panaversity GPT - Sophia is heading out to the grocery store. \\n\"\n",
        "        \"A programmer tells her: 'Get a liter of milk, and if they have eggs, get 12.'\\n\"\n",
        "        \"Sophia returns with 13 liters of milk. The programmer asks why and Sophia replies:\\n\"\n",
        "        \"'Because they had eggs!' 🥚🥛\\n\")\n",
        "SORRY = \"\\n🙁 Sorry, I only tell jokes. Try typing 'Joke' exactly like that!\\n\"\n",
        "\n",
        "\n",
        "user_input = input(PROMPT)\n",
        "\n",
        "if user_input == \"Joke\":\n",
        "    print(JOKE)\n",
        "else:\n",
        "    print(SORRY)\n"
      ]
    },
    {
      "cell_type": "markdown",
      "source": [],
      "metadata": {
        "id": "QIuHX-4JNs2S"
      }
    }
  ]
}