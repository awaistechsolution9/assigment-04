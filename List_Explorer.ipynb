{
  "nbformat": 4,
  "nbformat_minor": 0,
  "metadata": {
    "colab": {
      "provenance": [],
      "authorship_tag": "ABX9TyNNl9PEt6+ErCZ+nRzPdf90",
      "include_colab_link": true
    },
    "kernelspec": {
      "name": "python3",
      "display_name": "Python 3"
    },
    "language_info": {
      "name": "python"
    }
  },
  "cells": [
    {
      "cell_type": "markdown",
      "metadata": {
        "id": "view-in-github",
        "colab_type": "text"
      },
      "source": [
        "<a href=\"https://colab.research.google.com/github/awaistechsolution9/assigment-04/blob/main/List_Explorer.ipynb\" target=\"_parent\"><img src=\"https://colab.research.google.com/assets/colab-badge.svg\" alt=\"Open In Colab\"/></a>"
      ]
    },
    {
      "cell_type": "code",
      "execution_count": 6,
      "metadata": {
        "colab": {
          "base_uri": "https://localhost:8080/"
        },
        "id": "lXctofBQX5Aj",
        "outputId": "dd5cb424-be62-4c16-98a5-0b11b1839f79"
      },
      "outputs": [
        {
          "output_type": "stream",
          "name": "stdout",
          "text": [
            "\n",
            "Your current list: [10, 'apple', 42, 'banana', 3.14]\n",
            "Choose an operation:\n",
            "1 - Access an element\n",
            "2 - Modify an element\n",
            "3 - Slice the list\n",
            "4 - Exit\n",
            "Enter your choice (1/2/3/4): 2\n",
            "Enter the index to modify: 3\n",
            "Enter the new value: 3\n",
            "Modified index 3: banana -> 3\n",
            "\n",
            "Your current list: [10, 'apple', 42, '3', 3.14]\n",
            "Choose an operation:\n",
            "1 - Access an element\n",
            "2 - Modify an element\n",
            "3 - Slice the list\n",
            "4 - Exit\n",
            "Enter your choice (1/2/3/4): 2\n",
            "Enter the index to modify: 3\n",
            "Enter the new value: \n",
            "Modified index 3: 3 -> \n",
            "\n",
            "Your current list: [10, 'apple', 42, '', 3.14]\n",
            "Choose an operation:\n",
            "1 - Access an element\n",
            "2 - Modify an element\n",
            "3 - Slice the list\n",
            "4 - Exit\n",
            "Enter your choice (1/2/3/4): 3\n",
            "Enter the start index: 2\n",
            "Enter the end index: 3\n",
            "Sliced list: [42]\n",
            "\n",
            "Your current list: [10, 'apple', 42, '', 3.14]\n",
            "Choose an operation:\n",
            "1 - Access an element\n",
            "2 - Modify an element\n",
            "3 - Slice the list\n",
            "4 - Exit\n",
            "Enter your choice (1/2/3/4): 4\n",
            "Goodbye!\n"
          ]
        }
      ],
      "source": [
        "\n",
        "my_list = [10, \"apple\", 42, \"banana\", 3.14]\n",
        "\n",
        "\n",
        "def access_element(lst, index):\n",
        "    try:\n",
        "        return f\"Element at index {index}: {lst[index]}\"\n",
        "    except IndexError:\n",
        "        return \"Error: Index out of range.\"\n",
        "\n",
        "\n",
        "def modify_element(lst, index, new_value):\n",
        "    try:\n",
        "        old_value = lst[index]\n",
        "        lst[index] = new_value\n",
        "        return f\"Modified index {index}: {old_value} -> {new_value}\"\n",
        "    except IndexError:\n",
        "        return \"Error: Index out of range.\"\n",
        "\n",
        "\n",
        "def slice_list(lst, start, end):\n",
        "    try:\n",
        "        return lst[start:end]\n",
        "    except Exception as e:\n",
        "        return f\"Error: {e}\"\n",
        "\n",
        "\n",
        "def list_game():\n",
        "    global my_list\n",
        "    while True:\n",
        "        print(\"\\nYour current list:\", my_list)\n",
        "        print(\"Choose an operation:\")\n",
        "        print(\"1 - Access an element\")\n",
        "        print(\"2 - Modify an element\")\n",
        "        print(\"3 - Slice the list\")\n",
        "        print(\"4 - Exit\")\n",
        "\n",
        "        choice = input(\"Enter your choice (1/2/3/4): \")\n",
        "\n",
        "        if choice == \"1\":\n",
        "            index = int(input(\"Enter the index to access: \"))\n",
        "            print(access_element(my_list, index))\n",
        "\n",
        "        elif choice == \"2\":\n",
        "            index = int(input(\"Enter the index to modify: \"))\n",
        "            new_value = input(\"Enter the new value: \")\n",
        "            print(modify_element(my_list, index, new_value))\n",
        "\n",
        "        elif choice == \"3\":\n",
        "            start = int(input(\"Enter the start index: \"))\n",
        "            end = int(input(\"Enter the end index: \"))\n",
        "            result = slice_list(my_list, start, end)\n",
        "            print(\"Sliced list:\", result)\n",
        "\n",
        "        elif choice == \"4\":\n",
        "            print(\"Goodbye!\")\n",
        "            break\n",
        "\n",
        "        else:\n",
        "            print(\"Invalid choice. Please select 1, 2, 3, or 4.\")\n",
        "\n",
        "\n",
        "list_game()\n"
      ]
    }
  ]
}