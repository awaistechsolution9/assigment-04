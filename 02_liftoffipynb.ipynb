{
  "nbformat": 4,
  "nbformat_minor": 0,
  "metadata": {
    "colab": {
      "provenance": [],
      "authorship_tag": "ABX9TyM8F+iU46WeEah35RTAlCNn",
      "include_colab_link": true
    },
    "kernelspec": {
      "name": "python3",
      "display_name": "Python 3"
    },
    "language_info": {
      "name": "python"
    }
  },
  "cells": [
    {
      "cell_type": "markdown",
      "metadata": {
        "id": "view-in-github",
        "colab_type": "text"
      },
      "source": [
        "<a href=\"https://colab.research.google.com/github/awaistechsolution9/assigment-04/blob/main/02_liftoffipynb.ipynb\" target=\"_parent\"><img src=\"https://colab.research.google.com/assets/colab-badge.svg\" alt=\"Open In Colab\"/></a>"
      ]
    },
    {
      "cell_type": "code",
      "execution_count": 1,
      "metadata": {
        "colab": {
          "base_uri": "https://localhost:8080/"
        },
        "id": "qI6HVcaMi3mv",
        "outputId": "bc76e8b0-aaf2-45dc-de7e-d88d186ba3f3"
      },
      "outputs": [
        {
          "output_type": "stream",
          "name": "stdout",
          "text": [
            "10\n",
            "Liftoff!\n",
            "9\n",
            "Liftoff!\n",
            "8\n",
            "Liftoff!\n",
            "7\n",
            "Liftoff!\n",
            "6\n",
            "Liftoff!\n",
            "5\n",
            "Liftoff!\n",
            "4\n",
            "Liftoff!\n",
            "3\n",
            "Liftoff!\n",
            "2\n",
            "Liftoff!\n",
            "1\n",
            "Liftoff!\n"
          ]
        }
      ],
      "source": [
        "for i in range(10,0,-1):\n",
        "  print(i)\n",
        "\n",
        "  print(\"Liftoff!\")"
      ]
    }
  ]
}