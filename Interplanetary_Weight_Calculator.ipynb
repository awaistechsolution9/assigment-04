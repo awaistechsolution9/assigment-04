{
  "nbformat": 4,
  "nbformat_minor": 0,
  "metadata": {
    "colab": {
      "provenance": [],
      "authorship_tag": "ABX9TyNsKC/6ZD6uJfo/kb6dkj1o",
      "include_colab_link": true
    },
    "kernelspec": {
      "name": "python3",
      "display_name": "Python 3"
    },
    "language_info": {
      "name": "python"
    }
  },
  "cells": [
    {
      "cell_type": "markdown",
      "metadata": {
        "id": "view-in-github",
        "colab_type": "text"
      },
      "source": [
        "<a href=\"https://colab.research.google.com/github/awaistechsolution9/assigment-04/blob/main/Interplanetary_Weight_Calculator.ipynb\" target=\"_parent\"><img src=\"https://colab.research.google.com/assets/colab-badge.svg\" alt=\"Open In Colab\"/></a>"
      ]
    },
    {
      "cell_type": "code",
      "execution_count": 2,
      "metadata": {
        "colab": {
          "base_uri": "https://localhost:8080/"
        },
        "id": "gJCVEiTwBOD_",
        "outputId": "f063b469-1fa5-4b40-fd71-1a5ca3d49e4e"
      },
      "outputs": [
        {
          "output_type": "stream",
          "name": "stdout",
          "text": [
            "Enter your weight on Earth (in kg): 80\n",
            "Enter the name of a planet (e.g., Mars, Jupiter): Jupiter\n",
            "✅ Your weight on Jupiter would be 188.8 kg.\n"
          ]
        }
      ],
      "source": [
        "# Gravitational constants\n",
        "MERCURY_GRAVITY = 0.376\n",
        "VENUS_GRAVITY = 0.889\n",
        "MARS_GRAVITY = 0.378\n",
        "JUPITER_GRAVITY = 2.36\n",
        "SATURN_GRAVITY = 1.081\n",
        "URANUS_GRAVITY = 0.815\n",
        "NEPTUNE_GRAVITY = 1.14\n",
        "EARTH_GRAVITY = 1.0\n",
        "\n",
        "def main():\n",
        "    try:\n",
        "        earth_weight = float(input(\"Enter your weight on Earth (in kg): \"))\n",
        "    except ValueError:\n",
        "        print(\"❌ Invalid input! Please enter a numeric weight.\")\n",
        "        return\n",
        "\n",
        "    planet = input(\"Enter the name of a planet (e.g., Mars, Jupiter): \")\n",
        "\n",
        "    if planet == \"Mercury\":\n",
        "        planet_weight = earth_weight * MERCURY_GRAVITY\n",
        "    elif planet == \"Venus\":\n",
        "        planet_weight = earth_weight * VENUS_GRAVITY\n",
        "    elif planet == \"Mars\":\n",
        "        planet_weight = earth_weight * MARS_GRAVITY\n",
        "    elif planet == \"Jupiter\":\n",
        "        planet_weight = earth_weight * JUPITER_GRAVITY\n",
        "    elif planet == \"Saturn\":\n",
        "        planet_weight = earth_weight * SATURN_GRAVITY\n",
        "    elif planet == \"Uranus\":\n",
        "        planet_weight = earth_weight * URANUS_GRAVITY\n",
        "    elif planet == \"Neptune\":\n",
        "        planet_weight = earth_weight * NEPTUNE_GRAVITY\n",
        "    else:\n",
        "        print(\"❌ Invalid planet name! Make sure the first letter is capitalized.\")\n",
        "        return\n",
        "\n",
        "    print(f\"✅ Your weight on {planet} would be {round(planet_weight, 2)} kg.\")\n",
        "\n",
        "main()\n"
      ]
    }
  ]
}