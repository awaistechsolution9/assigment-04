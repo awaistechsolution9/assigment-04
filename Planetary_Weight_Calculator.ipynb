{
  "nbformat": 4,
  "nbformat_minor": 0,
  "metadata": {
    "colab": {
      "provenance": [],
      "authorship_tag": "ABX9TyN/UN83swyYv2jeNCkgRNy0",
      "include_colab_link": true
    },
    "kernelspec": {
      "name": "python3",
      "display_name": "Python 3"
    },
    "language_info": {
      "name": "python"
    }
  },
  "cells": [
    {
      "cell_type": "markdown",
      "metadata": {
        "id": "view-in-github",
        "colab_type": "text"
      },
      "source": [
        "<a href=\"https://colab.research.google.com/github/awaistechsolution9/assigment-04/blob/main/Planetary_Weight_Calculator.ipynb\" target=\"_parent\"><img src=\"https://colab.research.google.com/assets/colab-badge.svg\" alt=\"Open In Colab\"/></a>"
      ]
    },
    {
      "cell_type": "code",
      "execution_count": 6,
      "metadata": {
        "colab": {
          "base_uri": "https://localhost:8080/"
        },
        "id": "IRKly1Lg7YwK",
        "outputId": "de5b8f22-1d67-48c3-e217-937468c1b7ae"
      },
      "outputs": [
        {
          "output_type": "stream",
          "name": "stdout",
          "text": [
            "Enter your Weight on earth (kg).70\n",
            "Your weight on Mars would be 26.11 kg.\n",
            "Enter the name of a planet (e.g , Mars ,Jupiter):Uranus\n",
            "Your weight on planet Uranus would be 57.05 kg.\n"
          ]
        }
      ],
      "source": [
        "earth_weight = float(input(\"Enter your Weight on earth (kg).\"))\n",
        "mars_weight = round(earth_weight * 0.373, 2)\n",
        "\n",
        "print(f\"Your weight on Mars would be {mars_weight} kg.\")\n",
        "\n",
        "gravity_factors = {\n",
        "    \"Mercury\": 0.376,\n",
        "    \"Venus\": 0.889,\n",
        "    \"Mars\": 0.378,\n",
        "    \"Jupiter\": 2.36,\n",
        "    \"Saturn\": 1.081,\n",
        "    \"Uranus\": 0.815,\n",
        "    \"Neptune\": 1.14\n",
        "}\n",
        "\n",
        "planet = input(\"Enter the name of a planet (e.g , Mars ,Jupiter):\")\n",
        "\n",
        "if planet in gravity_factors:\n",
        "     planet_weight = round(earth_weight * gravity_factors[planet], 2)\n",
        "     print(f\"Your weight on planet {planet} would be {planet_weight} kg.\")\n",
        "else:\n",
        "  print(\"Unknow planet\")"
      ]
    },
    {
      "cell_type": "code",
      "source": [],
      "metadata": {
        "id": "ZyEGq5Sd_bcM"
      },
      "execution_count": null,
      "outputs": []
    }
  ]
}